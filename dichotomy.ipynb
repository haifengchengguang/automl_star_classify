{
 "cells": [
  {
   "cell_type": "code",
   "execution_count": 16,
   "outputs": [
    {
     "data": {
      "text/plain": "True"
     },
     "execution_count": 16,
     "metadata": {},
     "output_type": "execute_result"
    }
   ],
   "source": [
    "import torch\n",
    "\n",
    "torch.cuda.is_available()"
   ],
   "metadata": {
    "collapsed": false,
    "pycharm": {
     "name": "#%%\n"
    }
   }
  },
  {
   "cell_type": "code",
   "execution_count": 17,
   "outputs": [
    {
     "name": "stderr",
     "output_type": "stream",
     "text": [
      "C:\\Users\\Administrator\\AppData\\Local\\Temp\\ipykernel_13564\\381295217.py:9: DtypeWarning: Columns (12) have mixed types. Specify dtype option on import or set low_memory=False.\n",
      "  df=pd.read_csv(data_path) # path to colab notebook #replace this with the path to your dataset\n"
     ]
    },
    {
     "name": "stdout",
     "output_type": "stream",
     "text": [
      "      W1mag-W2mag  W2mag-W3mag  Jmag-Hmag  Jmag-W1mag  Jmag-W2mag  Jmag-Kmag  \\\n",
      "5106     0.246000     1.030000   0.610000    1.233000    1.479000   1.016000   \n",
      "5107     0.245000     2.188001   0.763000    1.556999    1.801999   1.332000   \n",
      "5108     0.212000     1.844001   0.721000    1.164000    1.376000   1.071000   \n",
      "5109     0.180000     1.204001   0.596000    1.245999    1.426000   1.188000   \n",
      "5110     0.125999     2.551001   0.960001    1.338001    1.464001   1.395001   \n",
      "\n",
      "      subclass  \n",
      "5106         0  \n",
      "5107         0  \n",
      "5108         0  \n",
      "5109         0  \n",
      "5110         0  \n",
      "        W1mag-W2mag  W2mag-W3mag  Jmag-Hmag  Jmag-W1mag  Jmag-W2mag  \\\n",
      "325487     0.155000     0.598000   0.792000    1.981000       2.136   \n",
      "256578     0.202000     2.366000   0.724000    1.145001       1.347   \n",
      "199874     0.212999     0.474000   0.723001    1.318001       1.531   \n",
      "466395     0.112000     0.983001   0.769000    1.755000       1.867   \n",
      "498668     0.162000     2.869000   0.808000    1.227000       1.389   \n",
      "\n",
      "        Jmag-Kmag  subclass  \n",
      "325487   1.222000         1  \n",
      "256578   1.105001         1  \n",
      "199874   1.080001         1  \n",
      "466395   1.328000         1  \n",
      "498668   0.977000         1  \n",
      "   W1mag-W2mag  W2mag-W3mag  Jmag-Hmag  Jmag-W1mag  Jmag-W2mag  Jmag-Kmag  \\\n",
      "0     0.290000        0.824   0.846000    2.123000    2.413000   1.515000   \n",
      "1     0.297999        1.277   0.860999    1.724000    2.021999   1.433000   \n",
      "2     0.326000        1.328   1.146000    2.237000    2.563000   1.566000   \n",
      "3     0.492001        1.438   0.837000    2.266999    2.759000   1.407000   \n",
      "4     0.316000        0.303   0.908000    2.028999    2.344999   1.481999   \n",
      "\n",
      "   subclass  \n",
      "0         0  \n",
      "1         0  \n",
      "2         0  \n",
      "3         0  \n",
      "4         0  \n"
     ]
    }
   ],
   "source": [
    "import numpy as np\n",
    "import pandas as pd\n",
    "from autogluon.tabular import TabularDataset, TabularPredictor\n",
    "from matplotlib import pyplot as plt\n",
    "from sklearn.metrics import ConfusionMatrixDisplay\n",
    "from sklearn.model_selection import train_test_split\n",
    "\n",
    "data_path= \"result_20220309_color.csv\"\n",
    "df=pd.read_csv(data_path) # path to colab notebook #replace this with the path to your dataset\n",
    "df_use=df.iloc[:,4:11]\n",
    "#print(df_use.head())\n",
    "\n",
    "df_bd=df_use.iloc[:5111]\n",
    "df_bd.tail()\n",
    "print(df_bd.tail())\n",
    "df_other=df_use.iloc[5111:]\n",
    "df_other.head()\n",
    "np.random.seed(0)\n",
    "df_other_sample=df_other.sample(5500)\n",
    "print(df_other_sample.head())\n",
    "df_use_sample=pd.concat([df_bd,df_other_sample])\n",
    "print(df_use_sample.head())"
   ],
   "metadata": {
    "collapsed": false,
    "pycharm": {
     "name": "#%%\n"
    }
   }
  },
  {
   "cell_type": "code",
   "execution_count": 18,
   "outputs": [
    {
     "name": "stderr",
     "output_type": "stream",
     "text": [
      "Warning: path already exists! This predictor may overwrite an existing predictor! path=\"./dich_BD/\"\n",
      "Beginning AutoGluon training ...\n",
      "AutoGluon will save models to \"./dich_BD/\\\"\n",
      "AutoGluon Version:  0.4.0\n",
      "Python Version:     3.9.11\n",
      "Operating System:   Windows\n",
      "Train Data Rows:    9019\n",
      "Train Data Columns: 6\n",
      "Label Column: subclass\n",
      "Preprocessing data ...\n",
      "AutoGluon infers your prediction problem is: 'binary' (because only two unique label-values observed).\n",
      "\t2 unique label values:  [0, 1]\n",
      "\tIf 'binary' is not the correct problem_type, please manually specify the problem_type parameter during predictor init (You may specify problem_type as one of: ['binary', 'multiclass', 'regression'])\n",
      "Selected class <--> label mapping:  class 1 = 1, class 0 = 0\n",
      "Using Feature Generators to preprocess the data ...\n",
      "Fitting AutoMLPipelineFeatureGenerator...\n",
      "\tAvailable Memory:                    5773.75 MB\n",
      "\tTrain Data (Original)  Memory Usage: 0.43 MB (0.0% of available memory)\n",
      "\tInferring data type of each feature based on column values. Set feature_metadata_in to manually specify special dtypes of the features.\n",
      "\tStage 1 Generators:\n",
      "\t\tFitting AsTypeFeatureGenerator...\n",
      "\tStage 2 Generators:\n",
      "\t\tFitting FillNaFeatureGenerator...\n",
      "\tStage 3 Generators:\n",
      "\t\tFitting IdentityFeatureGenerator...\n",
      "\tStage 4 Generators:\n",
      "\t\tFitting DropUniqueFeatureGenerator...\n",
      "\tTypes of features in original data (raw dtype, special dtypes):\n",
      "\t\t('float', []) : 6 | ['W1mag-W2mag', 'W2mag-W3mag', 'Jmag-Hmag', 'Jmag-W1mag', 'Jmag-W2mag', ...]\n",
      "\tTypes of features in processed data (raw dtype, special dtypes):\n",
      "\t\t('float', []) : 6 | ['W1mag-W2mag', 'W2mag-W3mag', 'Jmag-Hmag', 'Jmag-W1mag', 'Jmag-W2mag', ...]\n",
      "\t0.0s = Fit runtime\n",
      "\t6 features in original data used to generate 6 features in processed data.\n",
      "\tTrain Data (Processed) Memory Usage: 0.43 MB (0.0% of available memory)\n",
      "Data preprocessing and feature engineering runtime = 0.07s ...\n",
      "AutoGluon will gauge predictive performance using evaluation metric: 'accuracy'\n",
      "\tTo change this, specify the eval_metric parameter of Predictor()\n",
      "Automatically generating train/validation split with holdout_frac=0.1, Train Rows: 8117, Val Rows: 902\n",
      "Fitting 13 L1 models ...\n",
      "Fitting model: KNeighborsUnif ...\n",
      "\t0.8747\t = Validation score   (accuracy)\n",
      "\t0.02s\t = Training   runtime\n",
      "\t0.02s\t = Validation runtime\n",
      "Fitting model: KNeighborsDist ...\n",
      "\t0.8725\t = Validation score   (accuracy)\n",
      "\t0.02s\t = Training   runtime\n",
      "\t0.02s\t = Validation runtime\n",
      "Fitting model: LightGBMXT ...\n",
      "\tTraining LightGBMXT with GPU, note that this may negatively impact model quality compared to CPU training.\n",
      "\t0.8792\t = Validation score   (accuracy)\n",
      "\t11.1s\t = Training   runtime\n",
      "\t0.02s\t = Validation runtime\n",
      "Fitting model: LightGBM ...\n",
      "\tTraining LightGBM with GPU, note that this may negatively impact model quality compared to CPU training.\n",
      "\t0.8803\t = Validation score   (accuracy)\n",
      "\t2.93s\t = Training   runtime\n",
      "\t0.01s\t = Validation runtime\n",
      "Fitting model: RandomForestGini ...\n",
      "\t0.8803\t = Validation score   (accuracy)\n",
      "\t1.19s\t = Training   runtime\n",
      "\t0.07s\t = Validation runtime\n",
      "Fitting model: RandomForestEntr ...\n",
      "\t0.8803\t = Validation score   (accuracy)\n",
      "\t1.32s\t = Training   runtime\n",
      "\t0.08s\t = Validation runtime\n",
      "Fitting model: CatBoost ...\n",
      "\tTraining CatBoost with GPU, note that this may negatively impact model quality compared to CPU training.\n",
      "\tWarning: CatBoost on GPU is experimental. If you encounter issues, use CPU for training CatBoost instead.\n",
      "\t0.8758\t = Validation score   (accuracy)\n",
      "\t6.16s\t = Training   runtime\n",
      "\t0.01s\t = Validation runtime\n",
      "Fitting model: ExtraTreesGini ...\n",
      "\t0.8814\t = Validation score   (accuracy)\n",
      "\t0.69s\t = Training   runtime\n",
      "\t0.08s\t = Validation runtime\n",
      "Fitting model: ExtraTreesEntr ...\n",
      "\t0.8792\t = Validation score   (accuracy)\n",
      "\t0.7s\t = Training   runtime\n",
      "\t0.07s\t = Validation runtime\n",
      "Fitting model: NeuralNetFastAI ...\n",
      "No improvement since epoch 1: early stopping\n",
      "\t0.8847\t = Validation score   (accuracy)\n",
      "\t10.88s\t = Training   runtime\n",
      "\t0.02s\t = Validation runtime\n",
      "Fitting model: XGBoost ...\n",
      "D:\\conda\\envs\\automl\\lib\\site-packages\\xgboost\\compat.py:31: FutureWarning: pandas.Int64Index is deprecated and will be removed from pandas in a future version. Use pandas.Index with the appropriate dtype instead.\n",
      "  from pandas import MultiIndex, Int64Index\n",
      "\t0.878\t = Validation score   (accuracy)\n",
      "\t3.65s\t = Training   runtime\n",
      "\t0.02s\t = Validation runtime\n",
      "Fitting model: NeuralNetTorch ...\n",
      "\t0.8825\t = Validation score   (accuracy)\n",
      "\t12.02s\t = Training   runtime\n",
      "\t0.01s\t = Validation runtime\n",
      "Fitting model: LightGBMLarge ...\n",
      "\tTraining LightGBMLarge with GPU, note that this may negatively impact model quality compared to CPU training.\n",
      "\t0.8902\t = Validation score   (accuracy)\n",
      "\t18.92s\t = Training   runtime\n",
      "\t0.01s\t = Validation runtime\n",
      "Fitting model: WeightedEnsemble_L2 ...\n",
      "\t0.8991\t = Validation score   (accuracy)\n",
      "\t0.62s\t = Training   runtime\n",
      "\t0.0s\t = Validation runtime\n",
      "AutoGluon training complete, total runtime = 72.38s ... Best model: \"WeightedEnsemble_L2\"\n",
      "TabularPredictor saved. To load, use: predictor = TabularPredictor.load(\"./dich_BD/\\\")\n"
     ]
    }
   ],
   "source": [
    "#bd_data = TabularDataset(data_path)\n",
    "df_train,df_test=train_test_split(df_use_sample,test_size=0.15,random_state=1)\n",
    "#test_data = TabularDataset('https://autogluon.s3.amazonaws.com/datasets/Inc/test.csv')\n",
    "save_path = './dich_BD/'\n",
    "predictor = TabularPredictor(label='subclass',path=save_path).fit(train_data=df_train,ag_args_fit={'num_gpus': 1})\n",
    "#num_stack_levels=1,num_bag_folds=5\n",
    "#predictions = predictor.predict(test_data)"
   ],
   "metadata": {
    "collapsed": false,
    "pycharm": {
     "name": "#%%\n"
    }
   }
  },
  {
   "cell_type": "code",
   "execution_count": null,
   "outputs": [],
   "source": [],
   "metadata": {
    "collapsed": false,
    "pycharm": {
     "name": "#%%\n"
    }
   }
  }
 ],
 "metadata": {
  "kernelspec": {
   "display_name": "Python 3",
   "language": "python",
   "name": "python3"
  },
  "language_info": {
   "codemirror_mode": {
    "name": "ipython",
    "version": 2
   },
   "file_extension": ".py",
   "mimetype": "text/x-python",
   "name": "python",
   "nbconvert_exporter": "python",
   "pygments_lexer": "ipython2",
   "version": "2.7.6"
  }
 },
 "nbformat": 4,
 "nbformat_minor": 0
}